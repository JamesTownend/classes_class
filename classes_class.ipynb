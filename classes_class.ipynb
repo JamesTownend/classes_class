{
 "cells": [
  {
   "cell_type": "markdown",
   "metadata": {},
   "source": [
    "# Classes"
   ]
  },
  {
   "cell_type": "markdown",
   "metadata": {},
   "source": [
    "## An introduction"
   ]
  },
  {
   "cell_type": "markdown",
   "metadata": {},
   "source": [
    "### Why do we need them?\n",
    "\n",
    "We'll use a common modelling task as an example to show why classes are useful.  \n",
    "\n",
    "You have some model that requires imagery and meteorological data as inputs. The data requires processing before it can be used by the model. At first you're content with one combination of data and parameters so you don't bother with functions."
   ]
  },
  {
   "cell_type": "code",
   "execution_count": 1,
   "metadata": {},
   "outputs": [],
   "source": [
    "# general parameters\n",
    "time_start = ___ \n",
    "time_end = ___ \n",
    "geographic_extent = ___ \n",
    "folder_output  = ___\n",
    "\n",
    "# imagery parameters\n",
    "folder_images = ___ \n",
    "resolution = ___ \n",
    "bands = ___ \n",
    "\n",
    "# meteorology parameters\n",
    "folder_met = ___ \n",
    "met_columns = ___\n",
    "\n",
    "# model parameters\n",
    "grid_type = ___"
   ]
  },
  {
   "cell_type": "markdown",
   "metadata": {},
   "source": [
    "How most scripts start out:"
   ]
  },
  {
   "cell_type": "code",
   "execution_count": 2,
   "metadata": {},
   "outputs": [],
   "source": [
    "# load images\n",
    "# code\n",
    "\n",
    "# process images\n",
    "# code\n",
    "\n",
    "# load met\n",
    "# code\n",
    "\n",
    "# run model\n",
    "# code"
   ]
  },
  {
   "cell_type": "markdown",
   "metadata": {},
   "source": [
    "But what if you want to compare several datasets?\n",
    "\n",
    "At this point you'd take your code and throw it in a function, like so:"
   ]
  },
  {
   "cell_type": "code",
   "execution_count": null,
   "metadata": {},
   "outputs": [],
   "source": [
    "def run_pipeline(\n",
    "    time_start, time_end, geographic_extent, # general parameters\n",
    "    folder_images, resolution, bands, # imagery parameters\n",
    "    folder_met, met_columns, # meteorology parameters\n",
    "    grid_type): # model parameters\n",
    "    \n",
    "    # load images\n",
    "    # code\n",
    "\n",
    "    # process images\n",
    "    # code\n",
    "\n",
    "    # load met\n",
    "    # code\n",
    "\n",
    "    # run model\n",
    "    # code\n",
    "    return result\n",
    "\n",
    "# dataset 1\n",
    "result1 = run_pipeline(\n",
    "    time_start, time_end, geographic_extent,\n",
    "    folder_images1, resolution, bands,\n",
    "    folder_met1, met_columns,\n",
    "    grid_type)\n",
    "\n",
    "# dataset 2\n",
    "result2 = run_pipeline(\n",
    "    time_start, time_end, geographic_extent,\n",
    "    folder_images2, resolution, bands,\n",
    "    folder_met2, met_columns,\n",
    "    grid_type)"
   ]
  },
  {
   "cell_type": "markdown",
   "metadata": {},
   "source": [
    "But what if you want to compare several grid types without reloading all the data?\n",
    "\n",
    "Now you'd consider breaking up your function into smaller functions so you can avoid repeating parts unnecessarily:"
   ]
  },
  {
   "cell_type": "code",
   "execution_count": null,
   "metadata": {},
   "outputs": [],
   "source": [
    "def load_images(folder_images, time_start, time_end, geographic_extent):\n",
    "    # code\n",
    "    return images\n",
    "\n",
    "def process_images(images, resolution, bands):\n",
    "    # code\n",
    "    return images\n",
    "\n",
    "def load_met(folder_met, time_start, time_end, geographic_extent, met_columns):\n",
    "    # code\n",
    "    return met\n",
    "\n",
    "def run_model(images, met, time_start, time_end, geographic_extent, grid_type):\n",
    "    # code\n",
    "    return result\n",
    "\n",
    "# load and process data\n",
    "images = load_images(folder_images, time_start, time_end, geographic_extent)\n",
    "images = process_images(images, resolution, bands)\n",
    "met = load_met(folder_met, time_start, time_end, geographic_extent, met_columns)\n",
    "\n",
    "# grid type 1\n",
    "result1 = run_model(images, met, time_start, time_end, geographic_extent, grid_type1)\n",
    "\n",
    "# grid type 2\n",
    "result2 = run_model(images, met, time_start, time_end, geographic_extent, grid_type2)"
   ]
  },
  {
   "cell_type": "markdown",
   "metadata": {},
   "source": [
    "As you can see, it starts getting messy to pass variables between many small functions. This can get out of hand quickly when you have several permutations of every parameter. It becomes increasingly difficult to keep track of all your data, parameters and results. The solution in this case is to use classes. \n",
    "\n",
    "Classes are like \"blueprints\" for a set of functions and variables. They are useful when you need to work with variations on a set of operations. Here's how a class might look and be used for the problems we faced:"
   ]
  },
  {
   "cell_type": "code",
   "execution_count": null,
   "metadata": {},
   "outputs": [],
   "source": [
    "class Pipeline:\n",
    "    def __init__(self, time_start, time_end, geographic_extent):\n",
    "        # code\n",
    "            \n",
    "    def load_images(self, folder_images):\n",
    "        # code\n",
    "        \n",
    "    def process_images(self, resolution, bands):\n",
    "        # code\n",
    "        \n",
    "    def load_met(self, folder_met):\n",
    "        # code\n",
    "        \n",
    "    def run_model(self, grid_type):\n",
    "        # code\n",
    "\n",
    "# run pipeline with grid type 1\n",
    "pipeline1 = Pipeline(time_start, time_end, geographic_extent)\n",
    "pipeline1.load_images(folder_images)\n",
    "pipeline1.process_images(resolution, bands)\n",
    "pipeline1.load_met(folder_met)\n",
    "pipeline1.run_model(grid_type1)\n",
    "print(pipeline1.result)\n",
    "\n",
    "# try with grid type 2, but don't reload data\n",
    "pipeline2 = Pipeline(time_start, time_end, geographic_extent)\n",
    "pipeline2.images = pipeline1.images\n",
    "pipeline2.met = pipeline1.met\n",
    "pipeline2.run_model(grid_type2)\n",
    "print(pipeline2.result)\n",
    "\n",
    "# add a note to pipeline1\n",
    "pipeline1.note = 'this was an interesting model run'\n",
    "\n",
    "# see a single attribute of a pipeline\n",
    "print(pipeline1.grid_type)"
   ]
  },
  {
   "cell_type": "markdown",
   "metadata": {},
   "source": [
    "`'grid_type1'`"
   ]
  },
  {
   "cell_type": "code",
   "execution_count": null,
   "metadata": {},
   "outputs": [],
   "source": [
    "# see all attributes of a pipeline\n",
    "print(vars(pipeline1))"
   ]
  },
  {
   "cell_type": "markdown",
   "metadata": {},
   "source": [
    "```{'time_start': ___, \n",
    " 'time_end': ___, \n",
    " 'geographic_extent': ___, \n",
    " 'folder_images': ___, \n",
    " 'resolution': ___, \n",
    " 'bands': ___, \n",
    " 'folder_met': ___, \n",
    " 'grid_type': 'grid_type1',\n",
    " 'note': 'this was an interesting model run'}```"
   ]
  },
  {
   "cell_type": "markdown",
   "metadata": {},
   "source": [
    "Another useful feature of using classes is that you can pass your class instances (e.g. a pipeline) around as a package. \n",
    "\n",
    "The advantage of doing this is they then bring with them all of their attributes, so you don't need to think about it."
   ]
  },
  {
   "cell_type": "code",
   "execution_count": null,
   "metadata": {},
   "outputs": [],
   "source": [
    "def merge_pipelines(pipelines):\n",
    "    # code\n",
    "    return pipelines_merged\n",
    "\n",
    "# \"merge\" two pipelines\n",
    "pipelines_merged = merge_pipelines([pipeline1, pipeline2])"
   ]
  },
  {
   "cell_type": "markdown",
   "metadata": {},
   "source": [
    "Classes also make it very easy to save and load your data as a package including attributes."
   ]
  },
  {
   "cell_type": "code",
   "execution_count": null,
   "metadata": {},
   "outputs": [],
   "source": [
    "import pickle\n",
    "\n",
    "# save your entire pipeline, data and all\n",
    "pickle.dump(pipeline, open(\"pipeline.pickle\", \"wb\"))\n",
    "    \n",
    "# save your pipeline without data\n",
    "del pipeline.images\n",
    "del pipeline.met\n",
    "pickle.dump(pipeline, open(\"pipeline_nodata.pickle\", \"wb\"))\n",
    "    \n",
    "# load your pipeline\n",
    "pipeline = pickle.load(open(\"pipeline.pickle\", \"rb\"))"
   ]
  },
  {
   "cell_type": "markdown",
   "metadata": {},
   "source": [
    "### You're already using classes!"
   ]
  },
  {
   "cell_type": "markdown",
   "metadata": {},
   "source": [
    "Most common packages you're familiar with make liberal use of classes. You've been using them for years without realising.\n",
    "\n",
    "For example, pandas' `DataFrame` is a class that has associated functions, such as `describe`."
   ]
  },
  {
   "cell_type": "code",
   "execution_count": 25,
   "metadata": {},
   "outputs": [
    {
     "data": {
      "text/html": [
       "<div>\n",
       "<style scoped>\n",
       "    .dataframe tbody tr th:only-of-type {\n",
       "        vertical-align: middle;\n",
       "    }\n",
       "\n",
       "    .dataframe tbody tr th {\n",
       "        vertical-align: top;\n",
       "    }\n",
       "\n",
       "    .dataframe thead th {\n",
       "        text-align: right;\n",
       "    }\n",
       "</style>\n",
       "<table border=\"1\" class=\"dataframe\">\n",
       "  <thead>\n",
       "    <tr style=\"text-align: right;\">\n",
       "      <th></th>\n",
       "      <th>sepal_length</th>\n",
       "      <th>sepal_width</th>\n",
       "      <th>petal_length</th>\n",
       "      <th>petal_width</th>\n",
       "    </tr>\n",
       "  </thead>\n",
       "  <tbody>\n",
       "    <tr>\n",
       "      <th>count</th>\n",
       "      <td>150.000000</td>\n",
       "      <td>150.000000</td>\n",
       "      <td>150.000000</td>\n",
       "      <td>150.000000</td>\n",
       "    </tr>\n",
       "    <tr>\n",
       "      <th>mean</th>\n",
       "      <td>5.843333</td>\n",
       "      <td>3.057333</td>\n",
       "      <td>3.758000</td>\n",
       "      <td>1.199333</td>\n",
       "    </tr>\n",
       "    <tr>\n",
       "      <th>std</th>\n",
       "      <td>0.828066</td>\n",
       "      <td>0.435866</td>\n",
       "      <td>1.765298</td>\n",
       "      <td>0.762238</td>\n",
       "    </tr>\n",
       "    <tr>\n",
       "      <th>min</th>\n",
       "      <td>4.300000</td>\n",
       "      <td>2.000000</td>\n",
       "      <td>1.000000</td>\n",
       "      <td>0.100000</td>\n",
       "    </tr>\n",
       "    <tr>\n",
       "      <th>25%</th>\n",
       "      <td>5.100000</td>\n",
       "      <td>2.800000</td>\n",
       "      <td>1.600000</td>\n",
       "      <td>0.300000</td>\n",
       "    </tr>\n",
       "    <tr>\n",
       "      <th>50%</th>\n",
       "      <td>5.800000</td>\n",
       "      <td>3.000000</td>\n",
       "      <td>4.350000</td>\n",
       "      <td>1.300000</td>\n",
       "    </tr>\n",
       "    <tr>\n",
       "      <th>75%</th>\n",
       "      <td>6.400000</td>\n",
       "      <td>3.300000</td>\n",
       "      <td>5.100000</td>\n",
       "      <td>1.800000</td>\n",
       "    </tr>\n",
       "    <tr>\n",
       "      <th>max</th>\n",
       "      <td>7.900000</td>\n",
       "      <td>4.400000</td>\n",
       "      <td>6.900000</td>\n",
       "      <td>2.500000</td>\n",
       "    </tr>\n",
       "  </tbody>\n",
       "</table>\n",
       "</div>"
      ],
      "text/plain": [
       "       sepal_length  sepal_width  petal_length  petal_width\n",
       "count    150.000000   150.000000    150.000000   150.000000\n",
       "mean       5.843333     3.057333      3.758000     1.199333\n",
       "std        0.828066     0.435866      1.765298     0.762238\n",
       "min        4.300000     2.000000      1.000000     0.100000\n",
       "25%        5.100000     2.800000      1.600000     0.300000\n",
       "50%        5.800000     3.000000      4.350000     1.300000\n",
       "75%        6.400000     3.300000      5.100000     1.800000\n",
       "max        7.900000     4.400000      6.900000     2.500000"
      ]
     },
     "execution_count": 25,
     "metadata": {},
     "output_type": "execute_result"
    }
   ],
   "source": [
    "import pandas as pd\n",
    "\n",
    "# load and descibe the classic 'iris' dataset\n",
    "df =  pd.read_csv('https://raw.githubusercontent.com/mwaskom/seaborn-data/master/iris.csv')\n",
    "df.describe()"
   ]
  },
  {
   "cell_type": "markdown",
   "metadata": {},
   "source": [
    "Another nice thing about classes is we can see which functions they contain. \n",
    "\n",
    "We know these functions are specifically designed to work with the data the class holds."
   ]
  },
  {
   "cell_type": "code",
   "execution_count": null,
   "metadata": {},
   "outputs": [],
   "source": [
    "# list all functions within the pd.DataFrame class\n",
    "[func for func in dir(pd.DataFrame) if callable(getattr(pd.DataFrame, func))]"
   ]
  },
  {
   "cell_type": "markdown",
   "metadata": {},
   "source": [
    "Remember, you can always pull up the documentation of any of these functions that take your interest.\n",
    "\n",
    "You can do this by prepending a function with `?` or by pressing `shift + tab` with your cursor anywhere in the name. "
   ]
  },
  {
   "cell_type": "code",
   "execution_count": null,
   "metadata": {},
   "outputs": [],
   "source": [
    "?pd.DataFrame.sum"
   ]
  },
  {
   "cell_type": "markdown",
   "metadata": {},
   "source": [
    "You can treat a dataframe the same way you would any other class instance."
   ]
  },
  {
   "cell_type": "code",
   "execution_count": 16,
   "metadata": {},
   "outputs": [
    {
     "data": {
      "text/plain": [
       "{'_is_copy': None,\n",
       " '_mgr': BlockManager\n",
       " Items: Index(['sepal_length', 'sepal_width', 'petal_length', 'petal_width',\n",
       "        'species'],\n",
       "       dtype='object')\n",
       " Axis 1: RangeIndex(start=0, stop=150, step=1)\n",
       " FloatBlock: slice(0, 4, 1), 4 x 150, dtype: float64\n",
       " ObjectBlock: slice(4, 5, 1), 1 x 150, dtype: object,\n",
       " '_item_cache': {},\n",
       " '_attrs': {},\n",
       " 'note': 'I love dataframes'}"
      ]
     },
     "execution_count": 16,
     "metadata": {},
     "output_type": "execute_result"
    }
   ],
   "source": [
    "df.note = 'I love dataframes'\n",
    "vars(df)"
   ]
  },
  {
   "cell_type": "markdown",
   "metadata": {},
   "source": [
    "This is getting a bit more advanced, but you can even go further and extend classes with more functions:"
   ]
  },
  {
   "cell_type": "code",
   "execution_count": 148,
   "metadata": {},
   "outputs": [],
   "source": [
    "class MagicDataFrame(pd.DataFrame):\n",
    "    def __init__(self, data):\n",
    "        super().__init__(data)\n",
    "        \n",
    "    def magic(self):\n",
    "        print(f\"You're a wizard, {self.wizards[0]}\")"
   ]
  },
  {
   "cell_type": "code",
   "execution_count": 149,
   "metadata": {},
   "outputs": [
    {
     "data": {
      "text/html": [
       "<div>\n",
       "<style scoped>\n",
       "    .dataframe tbody tr th:only-of-type {\n",
       "        vertical-align: middle;\n",
       "    }\n",
       "\n",
       "    .dataframe tbody tr th {\n",
       "        vertical-align: top;\n",
       "    }\n",
       "\n",
       "    .dataframe thead th {\n",
       "        text-align: right;\n",
       "    }\n",
       "</style>\n",
       "<table border=\"1\" class=\"dataframe\">\n",
       "  <thead>\n",
       "    <tr style=\"text-align: right;\">\n",
       "      <th></th>\n",
       "      <th>wizards</th>\n",
       "    </tr>\n",
       "  </thead>\n",
       "  <tbody>\n",
       "    <tr>\n",
       "      <th>0</th>\n",
       "      <td>Harry</td>\n",
       "    </tr>\n",
       "  </tbody>\n",
       "</table>\n",
       "</div>"
      ],
      "text/plain": [
       "  wizards\n",
       "0   Harry"
      ]
     },
     "execution_count": 149,
     "metadata": {},
     "output_type": "execute_result"
    }
   ],
   "source": [
    "df_magic = MagicDataFrame({'wizards':['Harry']})\n",
    "df_magic"
   ]
  },
  {
   "cell_type": "code",
   "execution_count": 150,
   "metadata": {},
   "outputs": [
    {
     "name": "stdout",
     "output_type": "stream",
     "text": [
      "You're a wizard, Harry\n"
     ]
    }
   ],
   "source": [
    "df_magic.magic()"
   ]
  },
  {
   "cell_type": "markdown",
   "metadata": {},
   "source": [
    "![harry](https://i.ytimg.com/vi/vUN7yu7zvz8/hqdefault.jpg)"
   ]
  },
  {
   "cell_type": "markdown",
   "metadata": {},
   "source": [
    "## How to use classes"
   ]
  },
  {
   "cell_type": "markdown",
   "metadata": {},
   "source": [
    "This is a copy of the code on: https://www.w3schools.com/python/python_classes.asp\n",
    "\n",
    "Python is an object oriented programming language. Almost everything in Python is an object, with its properties and methods. A Class is like an object constructor, or a \"blueprint\" for creating objects."
   ]
  },
  {
   "cell_type": "markdown",
   "metadata": {},
   "source": [
    "### Create a class\n",
    "\n",
    "To create a class, use the keyword `class`"
   ]
  },
  {
   "cell_type": "code",
   "execution_count": 1,
   "metadata": {},
   "outputs": [],
   "source": [
    "class MyClass:\n",
    "    x = 5"
   ]
  },
  {
   "cell_type": "markdown",
   "metadata": {},
   "source": [
    "### Create an object\n",
    "\n",
    "Now we can use the class named `MyClass` to create objects:"
   ]
  },
  {
   "cell_type": "code",
   "execution_count": 2,
   "metadata": {},
   "outputs": [
    {
     "name": "stdout",
     "output_type": "stream",
     "text": [
      "5\n"
     ]
    }
   ],
   "source": [
    "p1 = MyClass()\n",
    "print(p1.x) "
   ]
  },
  {
   "cell_type": "markdown",
   "metadata": {},
   "source": [
    "### The `__init__()` function\n",
    "\n",
    "The examples above are classes and objects in their simplest form, and are not really useful in real life applications. To understand the meaning of classes we have to understand the built-in `__init__()` function. All classes have a function called `__init__()`, which is always executed when the class is being initiated. Use the `__init__()` function to assign values to object properties, or other operations that are necessary to do when the object is being created:"
   ]
  },
  {
   "cell_type": "code",
   "execution_count": 32,
   "metadata": {},
   "outputs": [
    {
     "name": "stdout",
     "output_type": "stream",
     "text": [
      "John\n",
      "36\n"
     ]
    }
   ],
   "source": [
    "class Person:\n",
    "    def __init__(self, name, age):\n",
    "        self.name = name\n",
    "        self.age = age\n",
    "\n",
    "p1 = Person(\"John\", 36)\n",
    "\n",
    "print(p1.name)\n",
    "print(p1.age) "
   ]
  },
  {
   "cell_type": "code",
   "execution_count": 34,
   "metadata": {},
   "outputs": [
    {
     "data": {
      "text/plain": [
       "{'name': 'John', 'age': 36}"
      ]
     },
     "execution_count": 34,
     "metadata": {},
     "output_type": "execute_result"
    }
   ],
   "source": [
    "vars(p1)"
   ]
  },
  {
   "cell_type": "markdown",
   "metadata": {},
   "source": [
    "### Object methods\n",
    "\n",
    "Objects can also contain methods. Methods in objects are functions that belong to the object. Let us create a method in the Person class:"
   ]
  },
  {
   "cell_type": "code",
   "execution_count": 5,
   "metadata": {},
   "outputs": [
    {
     "name": "stdout",
     "output_type": "stream",
     "text": [
      "Hello my name is John\n"
     ]
    }
   ],
   "source": [
    "class Person:\n",
    "    def __init__(self, name, age):\n",
    "        self.name = name\n",
    "        self.age = age\n",
    "        \n",
    "    def myfunc(self):\n",
    "        print(\"Hello my name is \" + self.name)\n",
    "\n",
    "p1 = Person(\"John\", 36)\n",
    "p1.myfunc() "
   ]
  },
  {
   "cell_type": "markdown",
   "metadata": {},
   "source": [
    "### The `self` parameter\n",
    "\n",
    "The self parameter is a reference to the current instance of the class, and is used to access variables that belongs to the class. It does not have to be named \"self\", you can call it whatever you like, but it has to be the first parameter of any function in the class:"
   ]
  },
  {
   "cell_type": "code",
   "execution_count": 6,
   "metadata": {},
   "outputs": [
    {
     "name": "stdout",
     "output_type": "stream",
     "text": [
      "Hello my name is John\n"
     ]
    }
   ],
   "source": [
    "class Person:\n",
    "    def __init__(mysillyobject, name, age):\n",
    "        mysillyobject.name = name\n",
    "        mysillyobject.age = age\n",
    "        \n",
    "        \n",
    "    def myfunc(abc):\n",
    "        print(\"Hello my name is \" + abc.name)\n",
    "\n",
    "p1 = Person(\"John\", 36)\n",
    "p1.myfunc() "
   ]
  },
  {
   "cell_type": "markdown",
   "metadata": {},
   "source": [
    "### Modify object properties\n",
    "\n",
    "You can modify properties on objects like this:"
   ]
  },
  {
   "cell_type": "code",
   "execution_count": 7,
   "metadata": {},
   "outputs": [],
   "source": [
    "p1.age = 40"
   ]
  },
  {
   "cell_type": "markdown",
   "metadata": {},
   "source": [
    "### Append object properties\n",
    "\n",
    "You can append properties to objects like this:"
   ]
  },
  {
   "cell_type": "code",
   "execution_count": 10,
   "metadata": {},
   "outputs": [],
   "source": [
    "p1.height = 180"
   ]
  },
  {
   "cell_type": "markdown",
   "metadata": {},
   "source": [
    "### Delete object properties\n",
    "\n",
    "You can delete properties on objects by using the `del` keyword:"
   ]
  },
  {
   "cell_type": "code",
   "execution_count": 9,
   "metadata": {},
   "outputs": [],
   "source": [
    "del p1.age "
   ]
  },
  {
   "cell_type": "markdown",
   "metadata": {},
   "source": [
    "## Python inheritance\n",
    "\n",
    "Inheritance allows us to define a class that inherits all the methods and properties from another class. Parent class is the class being inherited from, also called base class. Child class is the class that inherits from another class, also called derived class."
   ]
  },
  {
   "cell_type": "markdown",
   "metadata": {},
   "source": [
    "### Create a parent class\n",
    "\n",
    "Any class can be a parent class, so the syntax is the same as creating any other class:"
   ]
  },
  {
   "cell_type": "code",
   "execution_count": 18,
   "metadata": {},
   "outputs": [
    {
     "name": "stdout",
     "output_type": "stream",
     "text": [
      "John Doe\n"
     ]
    }
   ],
   "source": [
    "class Person:\n",
    "    def __init__(self, fname, lname):\n",
    "        self.firstname = fname\n",
    "        self.lastname = lname\n",
    "        \n",
    "    def printname(self):\n",
    "        print(self.firstname, self.lastname)\n",
    "\n",
    "# Use the Person class to create an object, and then execute the printname method:\n",
    "\n",
    "x = Person(\"John\", \"Doe\")\n",
    "x.printname() "
   ]
  },
  {
   "cell_type": "markdown",
   "metadata": {},
   "source": [
    "### Create a child class\n",
    "\n",
    "To create a class that inherits the functionality from another class, send the parent class as a parameter when creating the child class:"
   ]
  },
  {
   "cell_type": "code",
   "execution_count": 19,
   "metadata": {},
   "outputs": [],
   "source": [
    "class Student(Person):\n",
    "    pass "
   ]
  },
  {
   "cell_type": "markdown",
   "metadata": {},
   "source": [
    "Now the Student class has the same properties and methods as the Person class."
   ]
  },
  {
   "cell_type": "code",
   "execution_count": 20,
   "metadata": {},
   "outputs": [
    {
     "name": "stdout",
     "output_type": "stream",
     "text": [
      "Mike Olsen\n"
     ]
    }
   ],
   "source": [
    "x = Student(\"Mike\", \"Olsen\")\n",
    "x.printname() "
   ]
  },
  {
   "cell_type": "markdown",
   "metadata": {},
   "source": [
    "### Add the `__init__()` function\n",
    "\n",
    "So far we have created a child class that inherits the properties and methods from its parent. We want to add the `__init__()` function to the child class (instead of the pass keyword)."
   ]
  },
  {
   "cell_type": "code",
   "execution_count": null,
   "metadata": {},
   "outputs": [],
   "source": [
    "class Student(Person):\n",
    "    def __init__(self, fname, lname):\n",
    "    # add properties etc. "
   ]
  },
  {
   "cell_type": "markdown",
   "metadata": {},
   "source": [
    "When you add the `__init__()` function, the child class will no longer inherit the parent's `__init__()` function.\n",
    "\n",
    "Note: The child's `__init__()` function overrides the inheritance of the parent's `__init__()` function.\n",
    "\n",
    "To keep the inheritance of the parent's `__init__()` function, add a call to the parent's `__init__()` function:"
   ]
  },
  {
   "cell_type": "code",
   "execution_count": 21,
   "metadata": {},
   "outputs": [],
   "source": [
    "class Student(Person):\n",
    "    def __init__(self, fname, lname):\n",
    "        Person.__init__(self, fname, lname) "
   ]
  },
  {
   "cell_type": "markdown",
   "metadata": {},
   "source": [
    "Now we have successfully added the `__init__()` function, and kept the inheritance of the parent class, and we are ready to add functionality in the `__init__()` function."
   ]
  },
  {
   "cell_type": "markdown",
   "metadata": {},
   "source": [
    "### Use the `super()` function\n",
    "\n",
    "Python also has a `super()` function that will make the child class inherit all the methods and properties from its parent:"
   ]
  },
  {
   "cell_type": "code",
   "execution_count": 22,
   "metadata": {},
   "outputs": [],
   "source": [
    "class Student(Person):\n",
    "    def __init__(self, fname, lname):\n",
    "        super().__init__(fname, lname) "
   ]
  },
  {
   "cell_type": "markdown",
   "metadata": {},
   "source": [
    "By using the `super()` function, you do not have to use the name of the parent element, it will automatically inherit the methods and properties from its parent."
   ]
  },
  {
   "cell_type": "markdown",
   "metadata": {},
   "source": [
    "### Add properties"
   ]
  },
  {
   "cell_type": "markdown",
   "metadata": {},
   "source": [
    "We can extend the `Person` class with a `year` property. To do this we add another parameter in the `__init__()` function:"
   ]
  },
  {
   "cell_type": "code",
   "execution_count": 28,
   "metadata": {},
   "outputs": [
    {
     "name": "stdout",
     "output_type": "stream",
     "text": [
      "2019\n"
     ]
    }
   ],
   "source": [
    "class Student(Person):\n",
    "    def __init__(self, fname, lname, year):\n",
    "        super().__init__(fname, lname)\n",
    "        self.graduationyear = year\n",
    "\n",
    "x = Student(\"Mike\", \"Olsen\", 2019) \n",
    "print(x.graduationyear)"
   ]
  },
  {
   "cell_type": "markdown",
   "metadata": {},
   "source": [
    "### Add methods"
   ]
  },
  {
   "cell_type": "markdown",
   "metadata": {},
   "source": [
    "We can go a step further and extend the `Person` class with more methods, as below:"
   ]
  },
  {
   "cell_type": "code",
   "execution_count": 24,
   "metadata": {},
   "outputs": [
    {
     "name": "stdout",
     "output_type": "stream",
     "text": [
      "Welcome Mike Olsen to the class of 2019\n"
     ]
    }
   ],
   "source": [
    "class Student(Person):\n",
    "    def __init__(self, fname, lname, year):\n",
    "        super().__init__(fname, lname)\n",
    "        self.graduationyear = year\n",
    "\n",
    "    def welcome(self):\n",
    "        print(\"Welcome\", self.firstname, self.lastname, \"to the class of\", self.graduationyear) \n",
    "        \n",
    "x = Student(\"Mike\", \"Olsen\", 2019) \n",
    "x.welcome()"
   ]
  },
  {
   "cell_type": "markdown",
   "metadata": {},
   "source": [
    "## An exercise"
   ]
  },
  {
   "cell_type": "markdown",
   "metadata": {},
   "source": [
    "### Create your own class"
   ]
  },
  {
   "cell_type": "markdown",
   "metadata": {},
   "source": [
    "1. Rewrite the pipeline code below into a class\n",
    "2. Initialise two class instances using the parameters given\n",
    "3. Run the class method(s) of each instance to display two processed images\n",
    "4. Create a function to combine the two processed images into a 2-channel image (don't forget the 2-channel nodata mask)."
   ]
  },
  {
   "cell_type": "markdown",
   "metadata": {},
   "source": [
    "The old way of doing things:"
   ]
  },
  {
   "cell_type": "code",
   "execution_count": 11,
   "metadata": {},
   "outputs": [
    {
     "data": {
      "image/png": "[encoded data removed]",
      "text/plain": [
       "<Figure size 432x288 with 2 Axes>"
      ]
     },
     "metadata": {
      "needs_background": "light"
     },
     "output_type": "display_data"
    }
   ],
   "source": [
    "import numpy as np\n",
    "import matplotlib.pyplot as plt\n",
    "\n",
    "# parameters 1\n",
    "dims1 = (100, 80, 3)\n",
    "chan_dim1 = 2\n",
    "bit_depth1 = 14\n",
    "nodata_value1 = -1\n",
    "\n",
    "# parameters 2\n",
    "dims2 = (1, 100, 80)\n",
    "chan_dim2 = 0\n",
    "bit_depth2 = 8\n",
    "nodata_value2 = -9999\n",
    "\n",
    "## pipeline 1\n",
    "# create image\n",
    "img = np.random.randint(low=0, high=2**bit_depth1, size=dims1)\n",
    "# rearrange image array for consistent channel ordering\n",
    "img = np.swapaxes(img, axis1=chan_dim1, axis2=0)\n",
    "# create mask for nodata values\n",
    "nodata = img == nodata_value\n",
    "# convert brightness values to 0-1 range\n",
    "img = img.astype(float) / 2**bit_depth1\n",
    "# convert to panchromatic image if not already\n",
    "img = np.mean(img, axis=0)\n",
    "# plot image\n",
    "plt.imshow(img); plt.colorbar(); plt.show()\n",
    "\n",
    "## pipeline 2\n",
    "# ..."
   ]
  },
  {
   "cell_type": "markdown",
   "metadata": {},
   "source": [
    "The classy way of doing things:"
   ]
  },
  {
   "cell_type": "code",
   "execution_count": 3,
   "metadata": {},
   "outputs": [],
   "source": [
    "### your code here!"
   ]
  },
  {
   "cell_type": "markdown",
   "metadata": {},
   "source": [
    "### Practise inheritance"
   ]
  },
  {
   "cell_type": "markdown",
   "metadata": {},
   "source": [
    "Now that you've got the hang of creating your own classes, here's a final exercise to build on previously defined classes:\n",
    "\n",
    "1. Create a new class that inherits from the one you wrote above.\n",
    "2. Create a class method that clips the processed image to a maximum of `clip_value3`.\n",
    "2. Initialise this new class with the 3rd set of parameters below.\n",
    "3. Display the processed, clipped image."
   ]
  },
  {
   "cell_type": "code",
   "execution_count": 12,
   "metadata": {},
   "outputs": [],
   "source": [
    "# parameters 3\n",
    "dims3 = (100, 80, 3)\n",
    "chan_dim3 = 2\n",
    "bit_depth3 = 12\n",
    "nodata_value3 = -100\n",
    "clip_value3 = 0.8"
   ]
  },
  {
   "cell_type": "code",
   "execution_count": 13,
   "metadata": {},
   "outputs": [],
   "source": [
    "### your code here!"
   ]
  }
 ],
 "metadata": {
  "kernelspec": {
   "display_name": "Python 3",
   "language": "python",
   "name": "python3"
  },
  "language_info": {
   "codemirror_mode": {
    "name": "ipython",
    "version": 3
   },
   "file_extension": ".py",
   "mimetype": "text/x-python",
   "name": "python",
   "nbconvert_exporter": "python",
   "pygments_lexer": "ipython3",
   "version": "3.8.5"
  },
  "toc-autonumbering": true,
  "toc-showcode": false,
  "toc-showmarkdowntxt": false
 },
 "nbformat": 4,
 "nbformat_minor": 4
}
